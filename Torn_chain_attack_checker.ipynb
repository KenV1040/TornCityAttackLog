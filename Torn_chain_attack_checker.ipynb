{
  "nbformat": 4,
  "nbformat_minor": 0,
  "metadata": {
    "colab": {
      "name": "Torn chain attack checker.ipynb",
      "provenance": [],
      "authorship_tag": "ABX9TyPBY5NcTgXdEuxTVxodIUvn",
      "include_colab_link": true
    },
    "kernelspec": {
      "name": "python3",
      "display_name": "Python 3"
    }
  },
  "cells": [
    {
      "cell_type": "markdown",
      "metadata": {
        "id": "view-in-github",
        "colab_type": "text"
      },
      "source": [
        "<a href=\"https://colab.research.google.com/github/KenV1040/TornCityAttackLog/blob/master/Torn_chain_attack_checker.ipynb\" target=\"_parent\"><img src=\"https://colab.research.google.com/assets/colab-badge.svg\" alt=\"Open In Colab\"/></a>"
      ]
    },
    {
      "cell_type": "code",
      "metadata": {
        "id": "bhjY2vtkP8fL",
        "colab_type": "code",
        "colab": {
          "base_uri": "https://localhost:8080/",
          "height": 237
        },
        "outputId": "4caec550-d266-4d3f-c9f4-8e26c0377779"
      },
      "source": [
        "import requests as requests\n",
        "import json\n",
        "from datetime import datetime\n",
        "userApiKey = \"\"\n",
        "userID = \"\"\n",
        "apiUrl = f\"https://api.torn.com/user/{userID}?selections=attacks&key={userApiKey}\"\n",
        "\n",
        "# To define a date, follow this format: datetime(year, month, day, hour, minute, seconds)\n",
        "# Define the start time of the chain\n",
        "startDate = datetime(2020, 7, 10, 12, 0, 0)\n",
        "\n",
        "# Define the end time of the chain\n",
        "# endDate\n",
        "response = requests.get(apiUrl)\n",
        "jsonLoad = json.loads(response.content.decode('utf-8'))\n",
        "if response.status_code == 200:\n",
        "    attacks = json.loads(response.content.decode('utf-8'))\n",
        "    \n",
        "    numberOfAttacks = 0\n",
        "    successAttacks = 0\n",
        "    respect = 0\n",
        "    print(json.dumps(attacks, indent = 4))\n",
        "    if 'attacks' in attacks:\n",
        "        for k in attacks['attacks']:\n",
        "            temp = attacks['attacks'][k]\n",
        "            date = datetime.fromtimestamp(temp['timestamp_started'])\n",
        "            if date.month == startDate.month:\n",
        "                if date.day >= startDate.day:\n",
        "                    numberOfAttacks += 1\n",
        "                    if temp['result'] == 'Attacked':\n",
        "                        successAttacks += 1\n",
        "        print(f\"Number of attacks so far {numberOfAttacks}\\nSuccessful attacks: {successAttacks}\")\n",
        "    elif 'error' in attacks:\n",
        "        print(json.dumps(attacks, indent = 4))\n",
        "else:\n",
        "    print(\"Error failed\")\n"
      ],
      "execution_count": 12,
      "outputs": [
        {
          "output_type": "stream",
          "text": [
            "{\n",
            "    \"error\": {\n",
            "        \"code\": 9,\n",
            "        \"error\": \"API disabled\"\n",
            "    }\n",
            "}\n",
            "{\n",
            "    \"error\": {\n",
            "        \"code\": 9,\n",
            "        \"error\": \"API disabled\"\n",
            "    }\n",
            "}\n"
          ],
          "name": "stdout"
        }
      ]
    }
  ]
}