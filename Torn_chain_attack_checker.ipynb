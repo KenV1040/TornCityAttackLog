{
  "nbformat": 4,
  "nbformat_minor": 0,
  "metadata": {
    "colab": {
      "name": "Torn chain attack checker.ipynb",
      "provenance": [],
      "authorship_tag": "ABX9TyNPXJOreTDbpwsEZ+WdhhDI",
      "include_colab_link": true
    },
    "kernelspec": {
      "name": "python3",
      "display_name": "Python 3"
    }
  },
  "cells": [
    {
      "cell_type": "markdown",
      "metadata": {
        "id": "view-in-github",
        "colab_type": "text"
      },
      "source": [
        "<a href=\"https://colab.research.google.com/github/KenV1040/TornCityAttackLog/blob/master/Torn_chain_attack_checker.ipynb\" target=\"_parent\"><img src=\"https://colab.research.google.com/assets/colab-badge.svg\" alt=\"Open In Colab\"/></a>"
      ]
    },
    {
      "cell_type": "code",
      "metadata": {
        "id": "bhjY2vtkP8fL",
        "colab_type": "code",
        "colab": {
          "base_uri": "https://localhost:8080/",
          "height": 54
        },
        "outputId": "838e3d1e-3c7a-4232-efe3-de9599267532"
      },
      "source": [
        "import requests as requests\n",
        "import json\n",
        "from datetime import datetime \n",
        "apiUrl = \"https://api.torn.com/user/2561825?selections=attacks&key=5Cm1Ut0i7of3gs7I\"\n",
        "\n",
        "response = requests.get(apiUrl)\n",
        "attacks = json.loads(response.content.decode('utf-8'))\n",
        "numberOfAttacks = 0\n",
        "successAttacks = 0\n",
        "for k in attacks['attacks']:\n",
        "    temp = attacks['attacks'][k]\n",
        "    date = datetime.fromtimestamp(temp['timestamp_started'])\n",
        "    now = datetime.today()\n",
        "    if date.month == now.month:\n",
        "        if date.day == now.day:\n",
        "            numberOfAttacks += 1\n",
        "            if temp['result'] == 'Attacked':\n",
        "                successAttacks += 1\n",
        "print(f\"Number of attacks so far {numberOfAttacks}\\nSuccessful attacks: {successAttacks}\")\n"
      ],
      "execution_count": 30,
      "outputs": [
        {
          "output_type": "stream",
          "text": [
            "Number of attacks so far 20\n",
            "Successful attacks: 16\n"
          ],
          "name": "stdout"
        }
      ]
    }
  ]
}